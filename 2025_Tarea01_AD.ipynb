{
  "cells": [
    {
      "cell_type": "markdown",
      "id": "1d43c1ee",
      "metadata": {
        "id": "1d43c1ee"
      },
      "source": [
        "***\n",
        "# **Tarea 1 - Análisis de Datos**\n",
        "***\n",
        "\n",
        "## **Web scraping, Manejo de datos y Probabilidades**\n",
        "\n",
        "- **Profesores:**  Ricardo Flores (rflores@inf.udec.cl).\n",
        "- **Ayudante:** Felipe Burgos Rubilar (felipeiburgos@udec.cl).\n",
        "\n",
        "- Fecha de entrega: **11/09/25**\n",
        "\n",
        "- **¿Cómo?:** La tarea debe ser subida a CANVAS en un archivo con el formato **NombreApellido_T1.zip**. Este debe contener el código solicitado, junto con el conjunto de datos utilizado.\n",
        "\n",
        "***\n",
        "#### **Normas del curso:**\n",
        "Antes de comenzar lea detenidamente las normas a aplicar en la evaluación de esta tarea.\n",
        "\n",
        "- El horario límite para entregar la tarea es a las **23:59** de la fecha señalada en el encabezado. Entregas posteriores a la fecha y hora indicada utilizan uno de sus días permitidos para atraso, en caso de no tener días de atraso disponibles se asigna **nota mínima**. Es por esto que se le recomienda subir la tarea con anticipación.\n",
        "- Cada respuesta debe ser explicada claramente sin dejar espacio a dobles interpretaciones. **El código de la tarea debe estar comentado.**\n",
        "- Está bien discutir las respuestas con compañeros/as. Está bien buscar la respuesta en internet. Está bien asistir a clases donde comentaremos como resolver la tarea. **No está bien** entregar código escrito por otras personas ya sea compañeros, código obtenido por internet o incluso el código que el profesor programa en clases.\n",
        "- **Todo código entregado debe ser escrito completamente por usted**. De lo contrario, su tarea será penalizada con la nota mínima.\n",
        "\n",
        "***"
      ]
    },
    {
      "cell_type": "markdown",
      "id": "15810f00",
      "metadata": {
        "id": "15810f00"
      },
      "source": [
        "## **$\\bullet$ Parte 1: Web scraping (30 ptos)**\n",
        "El ayudante quiere comenzar su propio canal de criticas y reseñas sobre series de televisión y películas quieren dar una dura pelea a las grandes influencers como CoffeTV, VSXProject, ZEPfilms, etc. Para esto el ayudante ha consumido cuantas series ha podido. Sin embargo, a el también le gustaría tener información actualizada sobre las series disponibles, en todo momento. El ayudante no han tenido tiempo para realizar esto, por lo cual le solicitan ayuda al curso de “Análisis de Datos” del Departamento de Informática de la UdeC para que les ayuden con el script y el análisis.\n",
        "\n",
        "En base a esto se le solicita a usted que genere un código que permita extraer la información sobre series de television de la página sensacine.com/series-tv filtrados por género, ya que recopila información de varios géneros y paises y no tiene restricciones de extracción de datos mediante técnicas de scraping (más o menos)."
      ]
    },
    {
      "cell_type": "markdown",
      "source": [
        "### Los datos que les interesan al ayudante son los siguientes:\n",
        "\n",
        "**Información que se puede extraer desde la página general:**\n",
        "\n",
        "- Filtrado según género.\n",
        "\n",
        "**Información que se puede extraer desde la página por género:**\n",
        "\n",
        "*Identificacion*\n",
        "- Nombre de la Serie.\n",
        "\n",
        "*Puntuación*\n",
        "- Puntuación de los medios.\n",
        "- Puntuacion de los usuarios.\n",
        "\n",
        "*Emision:*\n",
        "- Año de lanzamiento.\n",
        "- Año de termino.\n",
        "\n",
        "**Información que deberán extraer dentro de la página de cada serie:**\n",
        "- Género y subjeneros.\n",
        "- Cantidad de temporadas.\n",
        "- Cantidad de episodios.\n",
        "- Donde se puede ver (servicio de streaming).\n",
        "\n",
        "Como habrán aprendido en clases, en el proceso de recolección de datos no siempre encontrarán toda la información en cada uno de los productos, por lo cual deberán decidir en cómo trabajar con estos tipos de datos faltantes. Para esto tendrán que explicar cada decisión tomada para la representación de estos. Para efectos de revisión, todos los datos obtenidos deberán ser guardados en un archivo \".pkl\" (pickle), ya que la página es actualizada constantemente.\n",
        "\n",
        "**Resumen:** En esta primera parte se espera que extraigan la información **(15 pts)**, la almacenen en un DataFrame **(2 pts)**, que limpien los datos **(3 pts)**, generen las variables de interes correspondientes en un formato correcto **(7 pts)**, que expliquen las decisiones tomadas **(3 pts)** y guarden los datos en un archivo “.pkl”."
      ],
      "metadata": {
        "id": "yMIZwcJIfte9"
      },
      "id": "yMIZwcJIfte9"
    },
    {
      "cell_type": "markdown",
      "id": "a583bb7f",
      "metadata": {
        "id": "a583bb7f"
      },
      "source": [
        "### **$\\bullet$ Librerías**"
      ]
    },
    {
      "cell_type": "code",
      "execution_count": 1,
      "id": "b9351ab2",
      "metadata": {
        "id": "b9351ab2",
        "colab": {
          "base_uri": "https://localhost:8080/"
        },
        "outputId": "bc82ed72-5b67-4ebe-fd2f-c4deb976847a"
      },
      "outputs": [
        {
          "output_type": "stream",
          "name": "stdout",
          "text": [
            "Requirement already satisfied: requests in /usr/local/lib/python3.12/dist-packages (2.32.4)\n",
            "Requirement already satisfied: charset_normalizer<4,>=2 in /usr/local/lib/python3.12/dist-packages (from requests) (3.4.3)\n",
            "Requirement already satisfied: idna<4,>=2.5 in /usr/local/lib/python3.12/dist-packages (from requests) (3.10)\n",
            "Requirement already satisfied: urllib3<3,>=1.21.1 in /usr/local/lib/python3.12/dist-packages (from requests) (2.5.0)\n",
            "Requirement already satisfied: certifi>=2017.4.17 in /usr/local/lib/python3.12/dist-packages (from requests) (2025.8.3)\n",
            "Collecting bs4\n",
            "  Downloading bs4-0.0.2-py2.py3-none-any.whl.metadata (411 bytes)\n",
            "Requirement already satisfied: beautifulsoup4 in /usr/local/lib/python3.12/dist-packages (from bs4) (4.13.5)\n",
            "Requirement already satisfied: soupsieve>1.2 in /usr/local/lib/python3.12/dist-packages (from beautifulsoup4->bs4) (2.7)\n",
            "Requirement already satisfied: typing-extensions>=4.0.0 in /usr/local/lib/python3.12/dist-packages (from beautifulsoup4->bs4) (4.15.0)\n",
            "Downloading bs4-0.0.2-py2.py3-none-any.whl (1.2 kB)\n",
            "Installing collected packages: bs4\n",
            "Successfully installed bs4-0.0.2\n"
          ]
        }
      ],
      "source": [
        "# Instalación de librerias para el scrapping -----------------------------------\n",
        "!pip install requests\n",
        "!pip install bs4\n",
        "#-------------------------------------------------------------------------------"
      ]
    },
    {
      "cell_type": "code",
      "execution_count": null,
      "id": "2356dfd6",
      "metadata": {
        "id": "2356dfd6"
      },
      "outputs": [],
      "source": [
        "# Puede utilizar más librerias si lo considera necesario------------------------\n",
        "\n",
        "# Web Scraping------------------------------------------------------------------\n",
        "import requests\n",
        "import bs4\n",
        "\n",
        "# Data handling-----------------------------------------------------------------\n",
        "import matplotlib.pyplot as plt\n",
        "import pandas as pd\n",
        "import numpy as np\n",
        "import re\n",
        "\n",
        "# Computation-------------------------------------------------------------------\n",
        "import time\n",
        "\n",
        "# Varios -----------------------------------------------------------------------\n",
        "import pickle\n",
        "import random\n",
        "import os\n",
        "\n",
        "#-------------------------------------------------------------------------------"
      ]
    },
    {
      "cell_type": "code",
      "source": [
        "# Conect drive -----------------------------------------------------------------\n",
        "from google.colab import drive\n",
        "\n",
        "drive.mount('/content/drive')\n",
        "#-------------------------------------------------------------------------------"
      ],
      "metadata": {
        "id": "1N9pLRYUTl4b"
      },
      "id": "1N9pLRYUTl4b",
      "execution_count": null,
      "outputs": []
    },
    {
      "cell_type": "code",
      "execution_count": null,
      "id": "cae12ba5",
      "metadata": {
        "id": "cae12ba5"
      },
      "outputs": [],
      "source": [
        "#-------------------------------------------------------------------------------\n",
        "base_url = \"https://www.sensacine.com/series-tv/\"\n",
        "#-------------------------------------------------------------------------------"
      ]
    },
    {
      "cell_type": "markdown",
      "id": "96a40bc7",
      "metadata": {
        "id": "96a40bc7"
      },
      "source": [
        "## **$\\bullet$ Parte 2: Manejo de datos (30 ptos)**\n",
        "\n",
        "En primera al ayudante le gustaría un análisis de filtrado de las series a nivel de generos y año de lanzamiento. Para esto le piden a usted que responda las siguientes preguntas:"
      ]
    },
    {
      "cell_type": "markdown",
      "id": "ad4508c6",
      "metadata": {
        "id": "ad4508c6"
      },
      "source": [
        "### Pregunta 2.1 (4 pts):\n",
        "\n",
        "* ¿Cuáles servicios de streaming están como opciones disponibles para ver series en la lista de sensacine?\n",
        "* ¿Cuántas series pueden verse en cada servicio de streaming según la lista de sensacine?"
      ]
    },
    {
      "cell_type": "code",
      "source": [
        "#TU RESPUESTA ACA"
      ],
      "metadata": {
        "id": "0enpQhyAfjVe"
      },
      "id": "0enpQhyAfjVe",
      "execution_count": null,
      "outputs": []
    },
    {
      "cell_type": "markdown",
      "id": "6dac7ae1",
      "metadata": {
        "id": "6dac7ae1"
      },
      "source": [
        "### Pregunta 2.2 (4 pts):\n",
        "\n",
        "¿Como se distribuye la cantidad de géneros en este conjunto de series?\n",
        "\n",
        "> **Nota**: para el conteo considere repetición de series que contengan más de un género, es decir si una serie tiene 3 generos, esta debe ser contada igualmente en cada categoria.\n",
        "\n",
        "Para esto se le pide la siguiente tabla:\n",
        "\n",
        "| Genero | Cantidad |\n",
        "|:-----------:|:------:|\n",
        "| Acción  | 38\n",
        "| Comedia | 286 |\n",
        "| Drama   | 462 |\n",
        "| ... | ... |\n",
        "\n",
        "Ademas, con esta información construya un gráfico de barras. Para esto pueden utilizar la librería **Matplotlib**.\n",
        "\n",
        "> **Reminder:** Un gráfico siempre debe tener título, labels en el eje x e y, seguir los criterio de Tuffe, etc."
      ]
    },
    {
      "cell_type": "code",
      "source": [
        "#TU RESPUESTA"
      ],
      "metadata": {
        "id": "OEs5Cv-dfhwO"
      },
      "id": "OEs5Cv-dfhwO",
      "execution_count": null,
      "outputs": []
    },
    {
      "cell_type": "markdown",
      "id": "2c527d90",
      "metadata": {
        "id": "2c527d90"
      },
      "source": [
        "### Pregunta 2.3 (6 pts):\n",
        "\n",
        "***\n",
        "- Entregue una tabla con las 30 series con más de 2 temporadas y mayor puntaje hecho por usuarios. muestre solamente nombre, puntaje, cantidad de temporadas y cantidad de episodios\n",
        "\n",
        "    *Ejemplo.*\n",
        "\n",
        "| Nombre | Puntaje de usuarios | Temporadas | Episodios |\n",
        "|:----------------:|:----------------:|:----------------:|:----------------:|\n",
        "| Serie 1 |  Score 1 | N1|  Neps1 |\n",
        "| ... | ... | ... | ... |\n",
        "| Serie 30 | Score 30 | N30 | Neps30 |\n",
        "\n",
        "***\n",
        "- Muestre en una tabla el puntaje segun usuarios promedio de todos los generos (redondée a 3 decimales) y luego las estadísticas descriptivas (desviación estándar, promedio, valor máximo y mínimo) de los 3 géneros de series que tengan la mayor puntuación promedio y los 2 generos que tengan la menor puntuación promedio.\n",
        "\n",
        "    *Ejemplo.*\n",
        "\n",
        "| Genero   | Puntaje por usuario promedio |xx|\n",
        "|:--------:|:----------------:|-|\n",
        "|  Crimen | 3.878 |...|\n",
        "| ...      | ...       |...|\n",
        "| Drama coreano | 0.290  |...|\n",
        "\n",
        "***\n",
        "- Entregue una tabla con los servicios de streaming, la cantidad de series que se pueden observar en cada uno de ellos y el puntaje por usuario promedio de estas series, redondée a 3 decimales.\n",
        "\n",
        "    *Ejemplo.*\n",
        "\n",
        "| Streaming | Cantidad de series | Puntuacion por usuario promedio |\n",
        "|:----------------:|:----------------:|:--------------|\n",
        "|  Netflix | xx |xx|\n",
        "| ... | ... |...|\n",
        "| Amazon Prime | xx |xx|\n",
        "\n",
        "***"
      ]
    },
    {
      "cell_type": "code",
      "source": [
        "#RESPONDING"
      ],
      "metadata": {
        "id": "p3WkBBw4fpp9"
      },
      "id": "p3WkBBw4fpp9",
      "execution_count": null,
      "outputs": []
    },
    {
      "cell_type": "markdown",
      "id": "0b645d54",
      "metadata": {
        "id": "0b645d54"
      },
      "source": [
        "### Pregunta 2.4 (6 ptos):\n",
        "\n",
        "*  Entregue una tabla con series que tengan una puntuacion por usuarios entre mínimo 3.5 y máximo 5.0, que tenga como género Drama, que tengan 2 o más Temporadas, que hayan terminado de emitirse y pueda verse en una plataforma de streaming.\n",
        "\n",
        "\n",
        "*   ¿Cúal es la plataforma de streaming que vale la pena contratar según calidad/cantidad de series de acuerdo con los datos de Sensacine? Justifique su respuesta."
      ]
    },
    {
      "cell_type": "code",
      "source": [
        "#Podrias estar jugando Silksong"
      ],
      "metadata": {
        "id": "Nrp46XO7ftfv"
      },
      "id": "Nrp46XO7ftfv",
      "execution_count": null,
      "outputs": []
    },
    {
      "cell_type": "markdown",
      "source": [
        "### Pregunta 2.5 (5 ptos):\n",
        "\n",
        "*  Entregue una tabla con series que tengan una puntuacion por usuarios entre mínimo 4 y máximo 5.0, que tenga como género Animación, que hayan sido emitidas durante el ultimo año (2025) y pueda verse en una plataforma de streaming.\n",
        "\n",
        "\n",
        "*   En base a tu analisis ¿Que serie de animación reciente recomendarias a un fan de la acción? ¿Para un fan de la comedia? Justifique sus respuestas."
      ],
      "metadata": {
        "id": "yIGqNM_mf8x7"
      },
      "id": "yIGqNM_mf8x7"
    },
    {
      "cell_type": "code",
      "source": [
        "# Responder aquí"
      ],
      "metadata": {
        "id": "cJD94lHtgvEf"
      },
      "id": "cJD94lHtgvEf",
      "execution_count": null,
      "outputs": []
    },
    {
      "cell_type": "markdown",
      "source": [
        "### Pregunta 2.6 (5 ptos):\n",
        "\n",
        "*  Entregue una tabla con series con la serie mejor evaluada por cada año segun su fecha original de emisión.\n",
        "* Presente un histograma con el puntaje promedio de las series estrenadas durante ese año por cada año."
      ],
      "metadata": {
        "id": "Y1gUhP-bgvxf"
      },
      "id": "Y1gUhP-bgvxf"
    },
    {
      "cell_type": "code",
      "source": [],
      "metadata": {
        "id": "IMt6I5JGhqrs"
      },
      "id": "IMt6I5JGhqrs",
      "execution_count": null,
      "outputs": []
    }
  ],
  "metadata": {
    "kernelspec": {
      "display_name": "Python 3 (ipykernel)",
      "language": "python",
      "name": "python3"
    },
    "language_info": {
      "codemirror_mode": {
        "name": "ipython",
        "version": 3
      },
      "file_extension": ".py",
      "mimetype": "text/x-python",
      "name": "python",
      "nbconvert_exporter": "python",
      "pygments_lexer": "ipython3",
      "version": "3.9.12"
    },
    "vscode": {
      "interpreter": {
        "hash": "99dbe7d137ab5e4dabafce500ed6bbf0d5f642a9ac691b75854551f3d54cce9c"
      }
    },
    "colab": {
      "provenance": [],
      "collapsed_sections": [
        "15810f00",
        "96a40bc7"
      ]
    }
  },
  "nbformat": 4,
  "nbformat_minor": 5
}